{
 "cells": [
  {
   "cell_type": "markdown",
   "id": "74bae951-e8ea-42f6-8a03-d934c738dcb6",
   "metadata": {},
   "source": [
    "Q1. Write a Python function that takes in two arrays of data and calculates the F-value for a variance ratio\n",
    "test. The function should return the F-value and the corresponding p-value for the test."
   ]
  },
  {
   "cell_type": "code",
   "execution_count": 1,
   "id": "cc8d25bf-4408-49b7-9632-c82602a23b9c",
   "metadata": {},
   "outputs": [
    {
     "name": "stdout",
     "output_type": "stream",
     "text": [
      "F-value: 0.9553361542078045\n",
      "p-value: 0.5171285424958589\n"
     ]
    }
   ],
   "source": [
    "import numpy as np\n",
    "from scipy.stats import f\n",
    "\n",
    "def variance_ratio_test(data1, data2):\n",
    "    n1 = len(data1)\n",
    "    n2 = len(data2)\n",
    "    \n",
    "    mean1 = np.mean(data1)\n",
    "    mean2 = np.mean(data2)\n",
    "    \n",
    "    var1 = np.var(data1, ddof=1)\n",
    "    var2 = np.var(data2, ddof=1)\n",
    "    \n",
    "    F = var1 / var2\n",
    "    df1 = n1 - 1\n",
    "    df2 = n2 - 1\n",
    "    \n",
    "    p_value = 1 - f.cdf(F, df1, df2)\n",
    "    \n",
    "    return F, p_value\n",
    "\n",
    "# Example usage\n",
    "data1 = [2.5, 3.7, 4.1, 5.0, 6.3]\n",
    "data2 = [1.8, 2.9, 3.8, 4.5, 5.6]\n",
    "\n",
    "F_value, p_value = variance_ratio_test(data1, data2)\n",
    "print(\"F-value:\", F_value)\n",
    "print(\"p-value:\", p_value)\n"
   ]
  },
  {
   "cell_type": "markdown",
   "id": "97a0d43d-b17f-486c-9fa0-06fde0d48118",
   "metadata": {},
   "source": [
    "Q2. Given a significance level of 0.05 and the degrees of freedom for the numerator and denominator of an\n",
    "F-distribution, write a Python function that returns the critical F-value for a two-tailed test."
   ]
  },
  {
   "cell_type": "code",
   "execution_count": 2,
   "id": "268a5c2b-b3c1-4f55-80d4-6ae64b40722c",
   "metadata": {},
   "outputs": [
    {
     "name": "stdout",
     "output_type": "stream",
     "text": [
      "Critical F-value: 5.415962339560236\n"
     ]
    }
   ],
   "source": [
    "from scipy.stats import f\n",
    "\n",
    "def critical_f_value(alpha, df1, df2):\n",
    "    tail_area = alpha / 2  # Divide alpha equally between the two tails\n",
    "    critical_value = f.ppf(1 - tail_area, df1, df2)\n",
    "    return critical_value\n",
    "\n",
    "# Example usage\n",
    "alpha = 0.05\n",
    "df1 = 3\n",
    "df2 = 8\n",
    "\n",
    "critical_f = critical_f_value(alpha, df1, df2)\n",
    "print(\"Critical F-value:\", critical_f)\n"
   ]
  },
  {
   "cell_type": "markdown",
   "id": "d3b60a36-2f9f-4b7c-af28-73c9906ce378",
   "metadata": {},
   "source": [
    "Q3. Write a Python program that generates random samples from two normal distributions with known variances and uses an F-test to determine if the variances are equal. The program should output the F-value, degrees of freedom, and p-value for the test."
   ]
  },
  {
   "cell_type": "code",
   "execution_count": 1,
   "id": "2905c6c4-a921-428e-9b53-fcf4ffed81dc",
   "metadata": {},
   "outputs": [
    {
     "name": "stdout",
     "output_type": "stream",
     "text": [
      "F-value: 0.655679301390012\n",
      "Degrees of Freedom (numerator): 19\n",
      "Degrees of Freedom (denominator): 19\n",
      "p-value: 0.8171610552042093\n"
     ]
    }
   ],
   "source": [
    "import numpy as np\n",
    "from scipy.stats import f\n",
    "\n",
    "def f_test_equal_variances(data1, data2):\n",
    "    var1 = np.var(data1, ddof=1)\n",
    "    var2 = np.var(data2, ddof=1)\n",
    "    \n",
    "    F = var1 / var2\n",
    "    df1 = len(data1) - 1\n",
    "    df2 = len(data2) - 1\n",
    "    \n",
    "    p_value = 1 - f.cdf(F, df1, df2)\n",
    "    \n",
    "    return F, df1, df2, p_value\n",
    "\n",
    "# Generate random samples from normal distributions with known variances\n",
    "np.random.seed(42)  # For reproducibility\n",
    "variance1 = 4.0\n",
    "variance2 = 6.0\n",
    "sample_size = 20\n",
    "\n",
    "data1 = np.random.normal(loc=0, scale=np.sqrt(variance1), size=sample_size)\n",
    "data2 = np.random.normal(loc=0, scale=np.sqrt(variance2), size=sample_size)\n",
    "\n",
    "# Perform F-test for equal variances\n",
    "F_value, df1, df2, p_value = f_test_equal_variances(data1, data2)\n",
    "\n",
    "print(\"F-value:\", F_value)\n",
    "print(\"Degrees of Freedom (numerator):\", df1)\n",
    "print(\"Degrees of Freedom (denominator):\", df2)\n",
    "print(\"p-value:\", p_value)\n"
   ]
  },
  {
   "cell_type": "markdown",
   "id": "d613518b-474d-4dbf-81a3-e2c5e1b918ab",
   "metadata": {},
   "source": [
    "Q4.The variances of two populations are known to be 10 and 15. A sample of 12 observations is taken from\n",
    "each population. Conduct an F-test at the 5% significance level to determine if the variances are\n",
    "significantly different."
   ]
  },
  {
   "cell_type": "markdown",
   "id": "5327f054-8e84-4ab4-9d31-6d8d06e8e7cc",
   "metadata": {},
   "source": [
    "\n",
    "Given:\n",
    "\n",
    "The variances of two populations are 10 and 15.\n",
    "The sample sizes are 12 for each population.\n",
    "The significance level is 5%.\n",
    "The null hypothesis is that the variances of the two populations are equal. The alternative hypothesis is that the variances of the two populations are not equal.\n",
    "\n",
    "To conduct the F-test, we need to calculate the F-statistic. The F-statistic is defined as the ratio of the variances of the two samples. In this case, the F-statistic is:\n",
    "\n",
    "F = var1 / var2 = 10 / 15 = 0.6666666666666666\n",
    "The critical value of the F-statistic at the 5% significance level with 11 degrees of freedom in the numerator and 11 degrees of freedom in the denominator is 2.706.\n",
    "\n",
    "Since the F-statistic (0.6666666666666666) is less than the critical value (2.706), we cannot reject the null hypothesis. Therefore, there is not enough evidence to conclude that the variances of the two populations are significantly different.\n",
    "\n",
    "In other words, the variances of the two populations are most likely equal."
   ]
  },
  {
   "cell_type": "markdown",
   "id": "564c43ed-54d8-4350-98b9-963803721d38",
   "metadata": {},
   "source": [
    "Q5. A manufacturer claims that the variance of the diameter of a certain product is 0.005. A sample of 25\n",
    "products is taken, and the sample variance is found to be 0.006. Conduct an F-test at the 1% significance\n",
    "level to determine if the claim is justified."
   ]
  },
  {
   "cell_type": "code",
   "execution_count": 2,
   "id": "7436e72a-e280-43d3-8039-cd9cdca4170f",
   "metadata": {},
   "outputs": [
    {
     "name": "stdout",
     "output_type": "stream",
     "text": [
      "Calculated F-statistic: 1.2\n",
      "Critical F-value: 24939.565259943236\n",
      "Fail to reject the null hypothesis. The claimed variance is justified.\n"
     ]
    }
   ],
   "source": [
    "from scipy.stats import f\n",
    "\n",
    "alpha = 0.01\n",
    "df1 = 24\n",
    "df2 = 1\n",
    "\n",
    "critical_f = f.ppf(1 - alpha / 2, df1, df2)\n",
    "calculated_f = 0.006 / 0.005  # Calculated F-statistic\n",
    "\n",
    "print(\"Calculated F-statistic:\", calculated_f)\n",
    "print(\"Critical F-value:\", critical_f)\n",
    "\n",
    "if calculated_f > critical_f:\n",
    "    print(\"Reject the null hypothesis. The claimed variance is not justified.\")\n",
    "else:\n",
    "    print(\"Fail to reject the null hypothesis. The claimed variance is justified.\")\n"
   ]
  },
  {
   "cell_type": "markdown",
   "id": "0fd03030-e19a-4183-98e3-bffb09b778c8",
   "metadata": {},
   "source": [
    "Q6. Write a Python function that takes in the degrees of freedom for the numerator and denominator of an\n",
    "F-distribution and calculates the mean and variance of the distribution. The function should return the\n",
    "mean and variance as a tuple."
   ]
  },
  {
   "cell_type": "code",
   "execution_count": 1,
   "id": "476ab24c-9ac5-4c05-a429-49bddec42556",
   "metadata": {},
   "outputs": [
    {
     "name": "stdout",
     "output_type": "stream",
     "text": [
      "Mean: 1.25\n",
      "Variance: 1.3541666666666667\n"
     ]
    }
   ],
   "source": [
    "def f_distribution_mean_variance(df_numerator, df_denominator):\n",
    "    if df_numerator <= 0 or df_denominator <= 0:\n",
    "        raise ValueError(\"Degrees of freedom must be positive.\")\n",
    "    \n",
    "    if df_denominator == 1:\n",
    "        raise ValueError(\"The denominator degrees of freedom must be greater than 1.\")\n",
    "    \n",
    "    mean = df_denominator / (df_denominator - 2)\n",
    "    variance_numerator = 2 * (df_denominator ** 2) * (df_numerator + df_denominator - 2)\n",
    "    variance_denominator = df_numerator * (df_denominator - 2) ** 2 * (df_denominator - 4)\n",
    "    variance = variance_numerator / variance_denominator\n",
    "    \n",
    "    return mean, variance\n",
    "\n",
    "# Example usage\n",
    "numerator_df = 5\n",
    "denominator_df = 10\n",
    "mean, variance = f_distribution_mean_variance(numerator_df, denominator_df)\n",
    "print(\"Mean:\", mean)\n",
    "print(\"Variance:\", variance)\n"
   ]
  },
  {
   "cell_type": "markdown",
   "id": "84088580-5e54-41f1-80ea-07524460098e",
   "metadata": {},
   "source": [
    "Q7. A random sample of 10 measurements is taken from a normal population with unknown variance. The\n",
    "sample variance is found to be 25. Another random sample of 15 measurements is taken from another\n",
    "normal population with unknown variance, and the sample variance is found to be 20. Conduct an F-test\n",
    "at the 10% significance level to determine if the variances are significantly different."
   ]
  },
  {
   "cell_type": "code",
   "execution_count": 1,
   "id": "c67df436-43d9-478d-99da-a5bfeb1afbb6",
   "metadata": {},
   "outputs": [
    {
     "name": "stdout",
     "output_type": "stream",
     "text": [
      "F-statistic: 1.25\n",
      "Critical value: 2.6457907352338195\n",
      "Fail to reject the null hypothesis.\n"
     ]
    }
   ],
   "source": [
    "from scipy.stats import f\n",
    "\n",
    "# Given sample variances\n",
    "squared_variance_1 = 25\n",
    "squared_variance_2 = 20\n",
    "\n",
    "# Degrees of freedom\n",
    "df1 = 10 - 1\n",
    "df2 = 15 - 1\n",
    "\n",
    "# Calculate F-statistic\n",
    "F_statistic = squared_variance_1 / squared_variance_2\n",
    "\n",
    "# Calculate the critical value for a 10% significance level\n",
    "alpha = 0.10\n",
    "critical_value = f.ppf(1 - alpha / 2, df1, df2)\n",
    "\n",
    "# Compare F-statistic with critical value\n",
    "if F_statistic > critical_value:\n",
    "    result = \"Reject the null hypothesis. Variances are significantly different.\"\n",
    "else:\n",
    "    result = \"Fail to reject the null hypothesis.\"\n",
    "\n",
    "print(\"F-statistic:\", F_statistic)\n",
    "print(\"Critical value:\", critical_value)\n",
    "print(result)\n"
   ]
  },
  {
   "cell_type": "markdown",
   "id": "e93b0f05-16ce-4824-8d31-ac18a8afeaea",
   "metadata": {},
   "source": [
    "Q8. The following data represent the waiting times in minutes at two different restaurants on a Saturday\n",
    "night: Restaurant A: 24, 25, 28, 23, 22, 20, 27; Restaurant B: 31, 33, 35, 30, 32, 36. Conduct an F-test at the 5%\n",
    "significance level to determine if the variances are significantly different."
   ]
  },
  {
   "cell_type": "code",
   "execution_count": 2,
   "id": "686efc10-1dc9-4a41-af24-ed5e6051c2d9",
   "metadata": {},
   "outputs": [
    {
     "name": "stdout",
     "output_type": "stream",
     "text": [
      "F-statistic: 1.4551907719609583\n",
      "Critical value: 6.977701858535566\n",
      "Fail to reject the null hypothesis.\n"
     ]
    }
   ],
   "source": [
    "from scipy.stats import f\n",
    "\n",
    "# Waiting times data\n",
    "data_a = [24, 25, 28, 23, 22, 20, 27]\n",
    "data_b = [31, 33, 35, 30, 32, 36]\n",
    "\n",
    "# Calculate sample variances\n",
    "variance_a = sum((x - sum(data_a) / len(data_a)) ** 2 for x in data_a) / (len(data_a) - 1)\n",
    "variance_b = sum((x - sum(data_b) / len(data_b)) ** 2 for x in data_b) / (len(data_b) - 1)\n",
    "\n",
    "# Degrees of freedom\n",
    "df1 = len(data_a) - 1\n",
    "df2 = len(data_b) - 1\n",
    "\n",
    "# Calculate F-statistic\n",
    "F_statistic = variance_a / variance_b\n",
    "\n",
    "# Calculate the critical value for a 5% significance level\n",
    "alpha = 0.05\n",
    "critical_value = f.ppf(1 - alpha / 2, df1, df2)\n",
    "\n",
    "# Compare F-statistic with critical value\n",
    "if F_statistic > critical_value:\n",
    "    result = \"Reject the null hypothesis. Variances are significantly different.\"\n",
    "else:\n",
    "    result = \"Fail to reject the null hypothesis.\"\n",
    "\n",
    "print(\"F-statistic:\", F_statistic)\n",
    "print(\"Critical value:\", critical_value)\n",
    "print(result)\n"
   ]
  },
  {
   "cell_type": "markdown",
   "id": "b0ca2a9b-8490-4673-a2a1-f7a05578e298",
   "metadata": {},
   "source": [
    "Q9. The following data represent the test scores of two groups of students: Group A: 80, 85, 90, 92, 87, 83;\n",
    "Group B: 75, 78, 82, 79, 81, 84. Conduct an F-test at the 1% significance level to determine if the variances\n",
    "are significantly different."
   ]
  },
  {
   "cell_type": "code",
   "execution_count": null,
   "id": "a54a063a-feb4-4ddc-a6db-0d23621c6e44",
   "metadata": {},
   "outputs": [],
   "source": []
  }
 ],
 "metadata": {
  "kernelspec": {
   "display_name": "Python 3 (ipykernel)",
   "language": "python",
   "name": "python3"
  },
  "language_info": {
   "codemirror_mode": {
    "name": "ipython",
    "version": 3
   },
   "file_extension": ".py",
   "mimetype": "text/x-python",
   "name": "python",
   "nbconvert_exporter": "python",
   "pygments_lexer": "ipython3",
   "version": "3.10.8"
  }
 },
 "nbformat": 4,
 "nbformat_minor": 5
}
